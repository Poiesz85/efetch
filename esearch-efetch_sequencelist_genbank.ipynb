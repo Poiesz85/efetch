{
 "cells": [
  {
   "cell_type": "markdown",
   "metadata": {},
   "source": [
    "Script to download sequence data from NCBI for alignment, cropping and analysis of variation between species."
   ]
  },
  {
   "cell_type": "code",
   "execution_count": null,
   "metadata": {},
   "outputs": [],
   "source": [
    "# install package requests if you do not yet have it installed\n",
    "# only need to run this once\n",
    "\n",
    "import sys\n",
    "!{sys.executable} -m pip install requests"
   ]
  },
  {
   "cell_type": "code",
   "execution_count": null,
   "metadata": {},
   "outputs": [],
   "source": [
    "# read the list of species we are looking for from infile\n",
    "\n",
    "from Bio import Entrez\n",
    "\n",
    "infile = 'infiles/Suzanne_species_names.txt'              # or fish_species_names.txt or some other file\n",
    "outfile_name = 'outfiles/raw_downloads/outfile.fas'    # CHANGE THIS or it will overwrite your last outfile ******************\n",
    "locus = '16S'                                          # or cytb or COI, etc.\n",
    "Entrez.email = ''                        # fill in your e-mail here (should be registered with NCBI)\n",
    "API_KEY = ''       # use api_key if you have one (makes it faster to search at NCBI)\n",
    "\n",
    "fish_sealprey = []\n",
    "with open(infile) as f:                                 \n",
    "    for line in f:\n",
    "        fish_sealprey.append(line.strip())\n",
    "f.close()"
   ]
  },
  {
   "cell_type": "code",
   "execution_count": null,
   "metadata": {},
   "outputs": [],
   "source": [
    "from Bio import SeqIO\n",
    "\n",
    "# Read all fish species into the list\n",
    "fish_species = [line.strip() for line in open(infile)]"
   ]
  },
  {
   "cell_type": "code",
   "execution_count": null,
   "metadata": {},
   "outputs": [],
   "source": [
    "# search NCBI for the locus for all species\n",
    "\n",
    "acc_list = []\n",
    "for fish_species in fish_sealprey:\n",
    "    # example search term: (\"Pterostichus agonus\"[Organism] AND 16S[All Fields])\n",
    "    species_term = '\"' + fish_species + '\"[Organism] AND ' + locus +'[All Fields]'\n",
    "    search_handle = Entrez.esearch(db=\"nucleotide\", term=species_term, idtype=\"acc\", usehistory=\"y\", api_key=API_KEY)\n",
    "    record = Entrez.read(search_handle)\n",
    "    search_handle.close()\n",
    "    acc_list += (record[\"IdList\"])\n",
    "\n",
    "# print the first six accession numbers retrieved\n",
    "print(acc_list[:6])"
   ]
  },
  {
   "cell_type": "code",
   "execution_count": null,
   "metadata": {},
   "outputs": [],
   "source": [
    "# show how many sequence records were retrieved\n",
    "\n",
    "print(len(acc_list))"
   ]
  },
  {
   "cell_type": "code",
   "execution_count": null,
   "metadata": {},
   "outputs": [],
   "source": [
    "# obtain DNA sequence data for each accession number from NCBI\n",
    "\n",
    "from Bio import Entrez\n",
    "import requests\n",
    "\n",
    "outfile = open(outfile_name, 'w')\n",
    "for acc in acc_list:\n",
    "    handle = Entrez.efetch(db=\"nucleotide\", id=acc, rettype=\"fasta\", retmode=\"text\", api_key=API_KEY)\n",
    "    # print output to file only if the sequence is not longer than mitochondrial size\n",
    "    accession = handle.read()\n",
    "    if len(accession) < 30000:\n",
    "        outfile.write(accession.replace('N','').replace(' ',''))\n",
    "\n",
    "print(outfile)\n",
    "outfile.close()"
   ]
  },
  {
   "cell_type": "code",
   "execution_count": null,
   "metadata": {},
   "outputs": [],
   "source": [
    "# produce command line for Clustalw2\n",
    "# run the command line on a windows command prompt\n",
    "\n",
    "from Bio.Align.Applications import ClustalwCommandline\n",
    "cline = ClustalwCommandline(\"clustalw2\", infile='outfile.fas')\n",
    "print(cline)"
   ]
  },
  {
   "cell_type": "markdown",
   "metadata": {},
   "source": [
    "now manually crop the alignment (*.aln) to the segment of interest<br>\n",
    "also remove unalignable sequences<br>"
   ]
  },
  {
   "cell_type": "code",
   "execution_count": null,
   "metadata": {},
   "outputs": [],
   "source": []
  }
 ],
 "metadata": {
  "kernelspec": {
   "display_name": "Python 3",
   "language": "python",
   "name": "python3"
  },
  "language_info": {
   "codemirror_mode": {
    "name": "ipython",
    "version": 3
   },
   "file_extension": ".py",
   "mimetype": "text/x-python",
   "name": "python",
   "nbconvert_exporter": "python",
   "pygments_lexer": "ipython3",
   "version": "3.6.1"
  }
 },
 "nbformat": 4,
 "nbformat_minor": 2
}
